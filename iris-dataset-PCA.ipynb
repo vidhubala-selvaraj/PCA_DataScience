{
 "cells": [
  {
   "cell_type": "code",
   "execution_count": 1,
   "metadata": {},
   "outputs": [],
   "source": [
    "from numpy import array\n",
    "from numpy import mean\n",
    "from numpy import cov\n",
    "from numpy.linalg import eig"
   ]
  },
  {
   "cell_type": "code",
   "execution_count": 2,
   "metadata": {},
   "outputs": [
    {
     "data": {
      "text/plain": [
       "array([[2.5, 2.4],\n",
       "       [0.5, 0.7],\n",
       "       [2.2, 2.9],\n",
       "       [1.9, 2.2],\n",
       "       [3.1, 3. ],\n",
       "       [2.3, 2.7],\n",
       "       [2. , 1.6],\n",
       "       [1. , 1.1],\n",
       "       [1.5, 1.6],\n",
       "       [1.1, 0.9]])"
      ]
     },
     "execution_count": 2,
     "metadata": {},
     "output_type": "execute_result"
    }
   ],
   "source": [
    "A = array([[2.5, 2.4], [0.5, 0.7], [2.2, 2.9], [1.9, 2.2], [3.1, 3], [2.3, 2.7], [2, 1.6], [1, 1.1], [1.5, 1.6], [1.1, 0.9]])\n",
    "A"
   ]
  },
  {
   "cell_type": "code",
   "execution_count": 3,
   "metadata": {},
   "outputs": [
    {
     "data": {
      "text/plain": [
       "array([1.81, 1.91])"
      ]
     },
     "execution_count": 3,
     "metadata": {},
     "output_type": "execute_result"
    }
   ],
   "source": [
    "M = mean(A.T, axis = 1)\n",
    "M"
   ]
  },
  {
   "cell_type": "code",
   "execution_count": 4,
   "metadata": {},
   "outputs": [
    {
     "data": {
      "text/plain": [
       "array([[ 0.69,  0.49],\n",
       "       [-1.31, -1.21],\n",
       "       [ 0.39,  0.99],\n",
       "       [ 0.09,  0.29],\n",
       "       [ 1.29,  1.09],\n",
       "       [ 0.49,  0.79],\n",
       "       [ 0.19, -0.31],\n",
       "       [-0.81, -0.81],\n",
       "       [-0.31, -0.31],\n",
       "       [-0.71, -1.01]])"
      ]
     },
     "execution_count": 4,
     "metadata": {},
     "output_type": "execute_result"
    }
   ],
   "source": [
    "C = A - M\n",
    "C"
   ]
  },
  {
   "cell_type": "code",
   "execution_count": 5,
   "metadata": {},
   "outputs": [
    {
     "data": {
      "text/plain": [
       "array([[0.61655556, 0.61544444],\n",
       "       [0.61544444, 0.71655556]])"
      ]
     },
     "execution_count": 5,
     "metadata": {},
     "output_type": "execute_result"
    }
   ],
   "source": [
    "V = cov(C.T)\n",
    "V"
   ]
  },
  {
   "cell_type": "code",
   "execution_count": 6,
   "metadata": {},
   "outputs": [
    {
     "name": "stdout",
     "output_type": "stream",
     "text": [
      "[0.0490834  1.28402771]\n",
      "\n",
      "\n",
      "[[-0.73517866 -0.6778734 ]\n",
      " [ 0.6778734  -0.73517866]]\n"
     ]
    }
   ],
   "source": [
    "values, vectors = eig(V)\n",
    "print(values)\n",
    "print('\\n')\n",
    "print(vectors)"
   ]
  },
  {
   "cell_type": "code",
   "execution_count": 7,
   "metadata": {},
   "outputs": [
    {
     "data": {
      "text/plain": [
       "array([[-0.17511531,  0.14285723,  0.38437499,  0.13041721, -0.20949846,\n",
       "         0.17528244, -0.3498247 ,  0.04641726,  0.01776463, -0.16267529],\n",
       "       [-0.82797019,  1.77758033, -0.99219749, -0.27421042, -1.67580142,\n",
       "        -0.9129491 ,  0.09910944,  1.14457216,  0.43804614,  1.22382056]])"
      ]
     },
     "execution_count": 7,
     "metadata": {},
     "output_type": "execute_result"
    }
   ],
   "source": [
    "P = vectors.T.dot(C.T)\n",
    "P"
   ]
  },
  {
   "cell_type": "markdown",
   "metadata": {},
   "source": [
    "## Inbuilt_PCA"
   ]
  },
  {
   "cell_type": "code",
   "execution_count": 8,
   "metadata": {},
   "outputs": [],
   "source": [
    "from sklearn.decomposition import PCA"
   ]
  },
  {
   "cell_type": "code",
   "execution_count": 9,
   "metadata": {},
   "outputs": [],
   "source": [
    "pca = PCA(2) #2 denotes no. of input features"
   ]
  },
  {
   "cell_type": "code",
   "execution_count": 10,
   "metadata": {},
   "outputs": [
    {
     "data": {
      "text/plain": [
       "PCA(copy=True, iterated_power='auto', n_components=2, random_state=None,\n",
       "  svd_solver='auto', tol=0.0, whiten=False)"
      ]
     },
     "execution_count": 10,
     "metadata": {},
     "output_type": "execute_result"
    }
   ],
   "source": [
    "pca.fit(A) #'A' denotes the input data"
   ]
  },
  {
   "cell_type": "code",
   "execution_count": 11,
   "metadata": {},
   "outputs": [
    {
     "data": {
      "text/plain": [
       "array([[-0.6778734 , -0.73517866],\n",
       "       [-0.73517866,  0.6778734 ]])"
      ]
     },
     "execution_count": 11,
     "metadata": {},
     "output_type": "execute_result"
    }
   ],
   "source": [
    "pca.components_ #components is the features"
   ]
  },
  {
   "cell_type": "code",
   "execution_count": 14,
   "metadata": {},
   "outputs": [
    {
     "data": {
      "text/plain": [
       "array([1.28402771, 0.0490834 ])"
      ]
     },
     "execution_count": 14,
     "metadata": {},
     "output_type": "execute_result"
    }
   ],
   "source": [
    "#eigen_values\n",
    "pca.explained_variance_"
   ]
  },
  {
   "cell_type": "code",
   "execution_count": 13,
   "metadata": {},
   "outputs": [
    {
     "data": {
      "text/plain": [
       "array([0.96318131, 0.03681869])"
      ]
     },
     "execution_count": 13,
     "metadata": {},
     "output_type": "execute_result"
    }
   ],
   "source": [
    "#ratio between 2 variables\n",
    "pca.explained_variance_ratio_"
   ]
  },
  {
   "cell_type": "code",
   "execution_count": 15,
   "metadata": {},
   "outputs": [
    {
     "data": {
      "text/plain": [
       "array([[-0.82797019, -0.17511531],\n",
       "       [ 1.77758033,  0.14285723],\n",
       "       [-0.99219749,  0.38437499],\n",
       "       [-0.27421042,  0.13041721],\n",
       "       [-1.67580142, -0.20949846],\n",
       "       [-0.9129491 ,  0.17528244],\n",
       "       [ 0.09910944, -0.3498247 ],\n",
       "       [ 1.14457216,  0.04641726],\n",
       "       [ 0.43804614,  0.01776463],\n",
       "       [ 1.22382056, -0.16267529]])"
      ]
     },
     "execution_count": 15,
     "metadata": {},
     "output_type": "execute_result"
    }
   ],
   "source": [
    "B = pca.transform(A)\n",
    "B"
   ]
  },
  {
   "cell_type": "code",
   "execution_count": 17,
   "metadata": {},
   "outputs": [],
   "source": [
    "import numpy as np\n",
    "import pandas as pd\n",
    "from pandas import Series, DataFrame\n",
    "import matplotlib.pyplot as plt\n",
    "import seaborn as sns"
   ]
  },
  {
   "cell_type": "code",
   "execution_count": 18,
   "metadata": {},
   "outputs": [
    {
     "name": "stderr",
     "output_type": "stream",
     "text": [
      "C:\\Users\\Vidhubala\\Anaconda3\\lib\\site-packages\\seaborn\\utils.py:376: UserWarning: No parser was explicitly specified, so I'm using the best available HTML parser for this system (\"lxml\"). This usually isn't a problem, but if you run this code on another system, or in a different virtual environment, it may use a different parser and behave differently.\n",
      "\n",
      "The code that caused this warning is on line 376 of the file C:\\Users\\Vidhubala\\Anaconda3\\lib\\site-packages\\seaborn\\utils.py. To get rid of this warning, pass the additional argument 'features=\"lxml\"' to the BeautifulSoup constructor.\n",
      "\n",
      "  gh_list = BeautifulSoup(http)\n"
     ]
    },
    {
     "data": {
      "text/plain": [
       "['anscombe',\n",
       " 'attention',\n",
       " 'brain_networks',\n",
       " 'car_crashes',\n",
       " 'diamonds',\n",
       " 'dots',\n",
       " 'exercise',\n",
       " 'flights',\n",
       " 'fmri',\n",
       " 'gammas',\n",
       " 'iris',\n",
       " 'mpg',\n",
       " 'planets',\n",
       " 'tips',\n",
       " 'titanic']"
      ]
     },
     "execution_count": 18,
     "metadata": {},
     "output_type": "execute_result"
    }
   ],
   "source": [
    "sns.get_dataset_names()"
   ]
  },
  {
   "cell_type": "code",
   "execution_count": 19,
   "metadata": {},
   "outputs": [
    {
     "data": {
      "text/html": [
       "<div>\n",
       "<style scoped>\n",
       "    .dataframe tbody tr th:only-of-type {\n",
       "        vertical-align: middle;\n",
       "    }\n",
       "\n",
       "    .dataframe tbody tr th {\n",
       "        vertical-align: top;\n",
       "    }\n",
       "\n",
       "    .dataframe thead th {\n",
       "        text-align: right;\n",
       "    }\n",
       "</style>\n",
       "<table border=\"1\" class=\"dataframe\">\n",
       "  <thead>\n",
       "    <tr style=\"text-align: right;\">\n",
       "      <th></th>\n",
       "      <th>sepal_length</th>\n",
       "      <th>sepal_width</th>\n",
       "      <th>petal_length</th>\n",
       "      <th>petal_width</th>\n",
       "      <th>species</th>\n",
       "    </tr>\n",
       "  </thead>\n",
       "  <tbody>\n",
       "    <tr>\n",
       "      <th>0</th>\n",
       "      <td>5.1</td>\n",
       "      <td>3.5</td>\n",
       "      <td>1.4</td>\n",
       "      <td>0.2</td>\n",
       "      <td>setosa</td>\n",
       "    </tr>\n",
       "    <tr>\n",
       "      <th>1</th>\n",
       "      <td>4.9</td>\n",
       "      <td>3.0</td>\n",
       "      <td>1.4</td>\n",
       "      <td>0.2</td>\n",
       "      <td>setosa</td>\n",
       "    </tr>\n",
       "    <tr>\n",
       "      <th>2</th>\n",
       "      <td>4.7</td>\n",
       "      <td>3.2</td>\n",
       "      <td>1.3</td>\n",
       "      <td>0.2</td>\n",
       "      <td>setosa</td>\n",
       "    </tr>\n",
       "    <tr>\n",
       "      <th>3</th>\n",
       "      <td>4.6</td>\n",
       "      <td>3.1</td>\n",
       "      <td>1.5</td>\n",
       "      <td>0.2</td>\n",
       "      <td>setosa</td>\n",
       "    </tr>\n",
       "    <tr>\n",
       "      <th>4</th>\n",
       "      <td>5.0</td>\n",
       "      <td>3.6</td>\n",
       "      <td>1.4</td>\n",
       "      <td>0.2</td>\n",
       "      <td>setosa</td>\n",
       "    </tr>\n",
       "  </tbody>\n",
       "</table>\n",
       "</div>"
      ],
      "text/plain": [
       "   sepal_length  sepal_width  petal_length  petal_width species\n",
       "0           5.1          3.5           1.4          0.2  setosa\n",
       "1           4.9          3.0           1.4          0.2  setosa\n",
       "2           4.7          3.2           1.3          0.2  setosa\n",
       "3           4.6          3.1           1.5          0.2  setosa\n",
       "4           5.0          3.6           1.4          0.2  setosa"
      ]
     },
     "execution_count": 19,
     "metadata": {},
     "output_type": "execute_result"
    }
   ],
   "source": [
    "ds = sns.load_dataset('iris') \n",
    "ds.head()"
   ]
  },
  {
   "cell_type": "code",
   "execution_count": 69,
   "metadata": {},
   "outputs": [],
   "source": [
    "X = ds.loc[:, 'sepal_length' : 'petal_width']\n",
    "y = ds.loc[:,'species']"
   ]
  },
  {
   "cell_type": "code",
   "execution_count": 70,
   "metadata": {},
   "outputs": [],
   "source": [
    "from sklearn.model_selection import train_test_split\n",
    "x_train, x_test, y_train, y_test = train_test_split(X, y, test_size = 0.2, random_state = 100)"
   ]
  },
  {
   "cell_type": "code",
   "execution_count": 71,
   "metadata": {},
   "outputs": [],
   "source": [
    "from sklearn.preprocessing import StandardScaler\n",
    "scaler = StandardScaler()\n",
    "x_train = scaler.fit_transform(x_train)\n",
    "x_test = scaler.transform(x_test)"
   ]
  },
  {
   "cell_type": "code",
   "execution_count": 72,
   "metadata": {},
   "outputs": [],
   "source": [
    "pca = PCA()\n",
    "x_train = pca.fit_transform(x_train)\n",
    "x_test = pca.transform(x_test)"
   ]
  },
  {
   "cell_type": "code",
   "execution_count": 73,
   "metadata": {},
   "outputs": [
    {
     "data": {
      "text/plain": [
       "1.0"
      ]
     },
     "execution_count": 73,
     "metadata": {},
     "output_type": "execute_result"
    }
   ],
   "source": [
    "pca.explained_variance_ratio_.sum()"
   ]
  },
  {
   "cell_type": "code",
   "execution_count": 74,
   "metadata": {},
   "outputs": [
    {
     "data": {
      "image/png": "[encoded data removed]",
      "text/plain": [
       "<Figure size 432x288 with 1 Axes>"
      ]
     },
     "metadata": {
      "needs_background": "light"
     },
     "output_type": "display_data"
    }
   ],
   "source": [
    "plt.plot(pca.explained_variance_ratio_)\n",
    "plt.show()"
   ]
  },
  {
   "cell_type": "code",
   "execution_count": 57,
   "metadata": {},
   "outputs": [
    {
     "name": "stdout",
     "output_type": "stream",
     "text": [
      "[[11  0  0]\n",
      " [ 0  4  2]\n",
      " [ 0  5  8]]\n",
      "0.7666666666666667\n"
     ]
    },
    {
     "name": "stderr",
     "output_type": "stream",
     "text": [
      "C:\\Users\\Vidhubala\\Anaconda3\\lib\\site-packages\\sklearn\\ensemble\\forest.py:246: FutureWarning: The default value of n_estimators will change from 10 in version 0.20 to 100 in 0.22.\n",
      "  \"10 in version 0.20 to 100 in 0.22.\", FutureWarning)\n"
     ]
    }
   ],
   "source": [
    "#PCA with two features\n",
    "from sklearn.model_selection import train_test_split\n",
    "x_train, x_test, y_train, y_test = train_test_split(X, y, test_size = 0.2, random_state = 100)\n",
    "\n",
    "from sklearn.preprocessing import StandardScaler\n",
    "scaler = StandardScaler()\n",
    "x_train = scaler.fit_transform(x_train)\n",
    "x_test = scaler.transform(x_test)\n",
    "\n",
    "pca = PCA(n_components = 2)\n",
    "x_train = pca.fit_transform(x_train)\n",
    "x_test = pca.transform(x_test)\n",
    "\n",
    "from sklearn.ensemble import RandomForestClassifier\n",
    "\n",
    "clas = RandomForestClassifier(max_depth = 2, random_state = 0 )  \n",
    "clas.fit(x_train, y_train)  \n",
    "\n",
    "y_pred = clas.predict(x_test)\n",
    "\n",
    "from sklearn.metrics import classification_report, confusion_matrix, accuracy_score \n",
    "print(confusion_matrix(y_test, y_pred))  \n",
    "print(accuracy_score(y_test, y_pred)) "
   ]
  },
  {
   "cell_type": "code",
   "execution_count": 75,
   "metadata": {},
   "outputs": [],
   "source": [
    "from sklearn import datasets"
   ]
  },
  {
   "cell_type": "code",
   "execution_count": 80,
   "metadata": {},
   "outputs": [
    {
     "data": {
      "text/html": [
       "<div>\n",
       "<style scoped>\n",
       "    .dataframe tbody tr th:only-of-type {\n",
       "        vertical-align: middle;\n",
       "    }\n",
       "\n",
       "    .dataframe tbody tr th {\n",
       "        vertical-align: top;\n",
       "    }\n",
       "\n",
       "    .dataframe thead th {\n",
       "        text-align: right;\n",
       "    }\n",
       "</style>\n",
       "<table border=\"1\" class=\"dataframe\">\n",
       "  <thead>\n",
       "    <tr style=\"text-align: right;\">\n",
       "      <th></th>\n",
       "      <th>sepal length (cm)</th>\n",
       "      <th>sepal width (cm)</th>\n",
       "      <th>petal length (cm)</th>\n",
       "      <th>petal width (cm)</th>\n",
       "    </tr>\n",
       "  </thead>\n",
       "  <tbody>\n",
       "    <tr>\n",
       "      <th>0</th>\n",
       "      <td>5.1</td>\n",
       "      <td>3.5</td>\n",
       "      <td>1.4</td>\n",
       "      <td>0.2</td>\n",
       "    </tr>\n",
       "    <tr>\n",
       "      <th>1</th>\n",
       "      <td>4.9</td>\n",
       "      <td>3.0</td>\n",
       "      <td>1.4</td>\n",
       "      <td>0.2</td>\n",
       "    </tr>\n",
       "    <tr>\n",
       "      <th>2</th>\n",
       "      <td>4.7</td>\n",
       "      <td>3.2</td>\n",
       "      <td>1.3</td>\n",
       "      <td>0.2</td>\n",
       "    </tr>\n",
       "    <tr>\n",
       "      <th>3</th>\n",
       "      <td>4.6</td>\n",
       "      <td>3.1</td>\n",
       "      <td>1.5</td>\n",
       "      <td>0.2</td>\n",
       "    </tr>\n",
       "    <tr>\n",
       "      <th>4</th>\n",
       "      <td>5.0</td>\n",
       "      <td>3.6</td>\n",
       "      <td>1.4</td>\n",
       "      <td>0.2</td>\n",
       "    </tr>\n",
       "  </tbody>\n",
       "</table>\n",
       "</div>"
      ],
      "text/plain": [
       "   sepal length (cm)  sepal width (cm)  petal length (cm)  petal width (cm)\n",
       "0                5.1               3.5                1.4               0.2\n",
       "1                4.9               3.0                1.4               0.2\n",
       "2                4.7               3.2                1.3               0.2\n",
       "3                4.6               3.1                1.5               0.2\n",
       "4                5.0               3.6                1.4               0.2"
      ]
     },
     "execution_count": 80,
     "metadata": {},
     "output_type": "execute_result"
    }
   ],
   "source": [
    "ds1 = datasets.load_iris() \n",
    "ds2 = pd.DataFrame(ds1.data, columns = ds1.feature_names)\n",
    "ds2.head()"
   ]
  },
  {
   "cell_type": "code",
   "execution_count": 81,
   "metadata": {},
   "outputs": [],
   "source": [
    "from sklearn import preprocessing\n",
    "data_scaled = pd.DataFrame(preprocessing.scale(ds2), columns = ds2.columns)"
   ]
  },
  {
   "cell_type": "code",
   "execution_count": 83,
   "metadata": {},
   "outputs": [
    {
     "data": {
      "text/plain": [
       "array([[-2.26470281e+00,  4.80026597e-01, -1.27706022e-01,\n",
       "        -2.41682039e-02],\n",
       "       [-2.08096115e+00, -6.74133557e-01, -2.34608854e-01,\n",
       "        -1.03006775e-01],\n",
       "       [-2.36422905e+00, -3.41908024e-01,  4.42014848e-02,\n",
       "        -2.83770534e-02],\n",
       "       [-2.29938422e+00, -5.97394508e-01,  9.12901063e-02,\n",
       "         6.59555596e-02],\n",
       "       [-2.38984217e+00,  6.46835383e-01,  1.57381957e-02,\n",
       "         3.59228133e-02],\n",
       "       [-2.07563095e+00,  1.48917752e+00,  2.69682944e-02,\n",
       "        -6.60818022e-03],\n",
       "       [-2.44402884e+00,  4.76441976e-02,  3.35470401e-01,\n",
       "         3.67755572e-02],\n",
       "       [-2.23284716e+00,  2.23148073e-01, -8.86954979e-02,\n",
       "         2.46120962e-02],\n",
       "       [-2.33464048e+00, -1.11532768e+00,  1.45076864e-01,\n",
       "         2.68592208e-02],\n",
       "       [-2.18432817e+00, -4.69013561e-01, -2.53765567e-01,\n",
       "         3.98992877e-02],\n",
       "       [-2.16631010e+00,  1.04369065e+00, -2.68681102e-01,\n",
       "        -1.67313672e-02],\n",
       "       [-2.32613087e+00,  1.33078335e-01,  9.37592444e-02,\n",
       "         1.33483413e-01],\n",
       "       [-2.21845090e+00, -7.28676165e-01, -2.30911237e-01,\n",
       "        -2.42503814e-03],\n",
       "       [-2.63310070e+00, -9.61506729e-01,  1.80796084e-01,\n",
       "         1.92155336e-02],\n",
       "       [-2.19874060e+00,  1.86005711e+00, -4.72900998e-01,\n",
       "        -1.94731769e-01],\n",
       "       [-2.26221453e+00,  2.68628449e+00,  3.05266093e-02,\n",
       "        -5.05337373e-02],\n",
       "       [-2.20758770e+00,  1.48360936e+00, -5.34409408e-03,\n",
       "        -1.88817432e-01],\n",
       "       [-2.19034951e+00,  4.88838316e-01, -4.42153165e-02,\n",
       "        -9.30904384e-02],\n",
       "       [-1.89857200e+00,  1.40501879e+00, -3.74343275e-01,\n",
       "        -6.10959671e-02],\n",
       "       [-2.34336905e+00,  1.12784938e+00,  1.32630467e-01,\n",
       "         3.77564197e-02],\n",
       "       [-1.91432300e+00,  4.08855708e-01, -4.21292594e-01,\n",
       "        -1.09212863e-02],\n",
       "       [-2.20701284e+00,  9.24121427e-01,  1.59865277e-01,\n",
       "        -5.95973299e-02],\n",
       "       [-2.77434470e+00,  4.58343668e-01,  3.32179098e-01,\n",
       "        -1.96484301e-02],\n",
       "       [-1.81866953e+00,  8.55585263e-02,  3.44885958e-02,\n",
       "        -1.51140999e-01],\n",
       "       [-2.22716331e+00,  1.37254455e-01,  1.17993536e-01,\n",
       "         2.70140352e-01],\n",
       "       [-1.95184633e+00, -6.25618588e-01, -3.05640982e-01,\n",
       "        -4.35616510e-02],\n",
       "       [-2.05115137e+00,  2.42163553e-01,  8.63640108e-02,\n",
       "        -6.76800599e-02],\n",
       "       [-2.16857717e+00,  5.27149525e-01, -2.06816248e-01,\n",
       "        -1.02753930e-02],\n",
       "       [-2.13956345e+00,  3.13217810e-01, -2.71150240e-01,\n",
       "        -8.42592210e-02],\n",
       "       [-2.26526149e+00, -3.37731904e-01,  6.84357762e-02,\n",
       "         1.08279885e-01],\n",
       "       [-2.14012214e+00, -5.04540690e-01, -7.50084417e-02,\n",
       "         4.81888683e-02],\n",
       "       [-1.83159477e+00,  4.23695068e-01, -2.70467377e-01,\n",
       "        -2.39870381e-01],\n",
       "       [-2.61494794e+00,  1.79357586e+00,  4.72284187e-02,\n",
       "         2.29235932e-01],\n",
       "       [-2.44617739e+00,  2.15072788e+00, -8.26680451e-02,\n",
       "         4.82143929e-02],\n",
       "       [-2.10997488e+00, -4.60201841e-01, -1.70274861e-01,\n",
       "        -2.90229468e-02],\n",
       "       [-2.20780890e+00, -2.06107398e-01, -2.25441580e-01,\n",
       "        -1.68907873e-01],\n",
       "       [-2.04514621e+00,  6.61558111e-01, -4.84537410e-01,\n",
       "        -1.96358525e-01],\n",
       "       [-2.52733191e+00,  5.92292774e-01,  1.94358125e-02,\n",
       "         1.36504550e-01],\n",
       "       [-2.42963258e+00, -9.04180040e-01,  1.93254662e-01,\n",
       "         9.73842285e-03],\n",
       "       [-2.16971071e+00,  2.68878961e-01, -1.75883821e-01,\n",
       "        -7.04740592e-03],\n",
       "       [-2.28647514e+00,  4.41715388e-01,  3.48949090e-02,\n",
       "        -1.06983249e-01],\n",
       "       [-1.85812246e+00, -2.33741516e+00, -2.04234223e-01,\n",
       "        -2.89863919e-01],\n",
       "       [-2.55363840e+00, -4.79100690e-01,  3.05766453e-01,\n",
       "         6.66014529e-02],\n",
       "       [-1.96444768e+00,  4.72326668e-01,  3.09601318e-01,\n",
       "        -1.77093014e-01],\n",
       "       [-2.13705901e+00,  1.14222926e+00,  2.48433561e-01,\n",
       "         1.51043437e-01],\n",
       "       [-2.06974430e+00, -7.11052725e-01, -6.39298256e-02,\n",
       "        -1.40269507e-01],\n",
       "       [-2.38473317e+00,  1.12042970e+00,  5.72178581e-02,\n",
       "         1.52230967e-01],\n",
       "       [-2.39437631e+00, -3.86246873e-01,  1.39467905e-01,\n",
       "         4.88347616e-02],\n",
       "       [-2.22944655e+00,  9.97959764e-01, -1.81492780e-01,\n",
       "         1.49281349e-02],\n",
       "       [-2.20383344e+00,  9.21635752e-03, -1.53029490e-01,\n",
       "        -4.93717318e-02],\n",
       "       [ 1.10178118e+00,  8.62972418e-01, -6.84586163e-01,\n",
       "        -3.48337755e-02],\n",
       "       [ 7.31337425e-01,  5.94614726e-01, -9.41217155e-02,\n",
       "        -4.90362325e-03],\n",
       "       [ 1.24097932e+00,  6.16297654e-01, -5.54006835e-01,\n",
       "        -9.42339702e-03],\n",
       "       [ 4.07483059e-01, -1.75440399e+00, -2.31017678e-02,\n",
       "        -6.57688353e-02],\n",
       "       [ 1.07547470e+00, -2.08421046e-01, -3.98255523e-01,\n",
       "        -1.04736873e-01],\n",
       "       [ 3.88687337e-01, -5.93283636e-01,  1.24191550e-01,\n",
       "         2.40831300e-01],\n",
       "       [ 7.46529741e-01,  7.73019312e-01,  1.48969403e-01,\n",
       "         7.73697853e-02],\n",
       "       [-4.87322742e-01, -1.85242909e+00,  2.49265266e-01,\n",
       "         4.05202053e-02],\n",
       "       [ 9.27901638e-01,  3.22260779e-02, -5.96169361e-01,\n",
       "         2.98796094e-02],\n",
       "       [ 1.14261887e-02, -1.03401828e+00,  5.38899390e-01,\n",
       "         2.84611837e-02],\n",
       "       [-1.10196280e-01, -2.65407282e+00, -4.67904441e-02,\n",
       "        -1.37607310e-02],\n",
       "       [ 4.40693449e-01, -6.32951884e-02,  2.05073815e-01,\n",
       "        -4.01260816e-02],\n",
       "       [ 5.62108306e-01, -1.76472438e+00, -7.65771394e-01,\n",
       "        -4.57311573e-02],\n",
       "       [ 7.19561889e-01, -1.86224606e-01, -6.86589454e-02,\n",
       "         1.64807198e-01],\n",
       "       [-3.33547032e-02, -4.39003210e-01,  1.94932893e-01,\n",
       "        -1.09048499e-01],\n",
       "       [ 8.75407191e-01,  5.09063957e-01, -5.03511382e-01,\n",
       "        -1.04943723e-01],\n",
       "       [ 3.50251668e-01, -1.96311735e-01,  4.90873075e-01,\n",
       "         1.91509364e-01],\n",
       "       [ 1.58810048e-01, -7.92095742e-01, -3.02037174e-01,\n",
       "         2.05297735e-01],\n",
       "       [ 1.22509363e+00, -1.62224380e+00, -4.82304024e-01,\n",
       "        -2.25899769e-01],\n",
       "       [ 1.64917899e-01, -1.30260923e+00, -1.72837808e-01,\n",
       "         5.17268487e-02],\n",
       "       [ 7.37682649e-01,  3.96571562e-01,  6.16526306e-01,\n",
       "         8.32841227e-02],\n",
       "       [ 4.76287191e-01, -4.17320281e-01, -2.64952227e-01,\n",
       "        -1.13568273e-01],\n",
       "       [ 1.23417810e+00, -9.33325729e-01, -3.68412272e-01,\n",
       "         9.94452551e-03],\n",
       "       [ 6.32858200e-01, -4.16387721e-01, -2.91896252e-01,\n",
       "         2.74220152e-01],\n",
       "       [ 7.02661183e-01, -6.34118197e-02, -4.46027008e-01,\n",
       "        -4.34583252e-02],\n",
       "       [ 8.74273654e-01,  2.50793393e-01, -4.72578954e-01,\n",
       "        -1.01715736e-01],\n",
       "       [ 1.25650912e+00, -7.72560197e-02, -7.27155002e-01,\n",
       "        -3.96885184e-02],\n",
       "       [ 1.35840512e+00,  3.31311682e-01, -2.60826577e-01,\n",
       "        -6.68280639e-02],\n",
       "       [ 6.64800367e-01, -2.25927855e-01,  8.58638887e-02,\n",
       "         3.64398401e-02],\n",
       "       [-4.02586109e-02, -1.05871855e+00, -3.19573330e-01,\n",
       "        -6.47881557e-02],\n",
       "       [ 1.30795175e-01, -1.56227183e+00, -1.49983478e-01,\n",
       "         9.40252286e-03],\n",
       "       [ 2.34526890e-02, -1.57247559e+00, -2.41552281e-01,\n",
       "         3.27724444e-02],\n",
       "       [ 2.41538273e-01, -7.77256383e-01, -1.51211957e-01,\n",
       "        -2.36513599e-02],\n",
       "       [ 1.06109461e+00, -6.33843245e-01,  1.05311387e-01,\n",
       "         1.83968453e-01],\n",
       "       [ 2.23978774e-01, -2.87773512e-01,  6.65249720e-01,\n",
       "         2.54828368e-01],\n",
       "       [ 4.29139116e-01,  8.45582241e-01,  4.50634071e-01,\n",
       "         1.09675181e-01],\n",
       "       [ 1.04872805e+00,  5.22051797e-01, -3.95786384e-01,\n",
       "        -3.72090187e-02],\n",
       "       [ 1.04453138e+00, -1.38298872e+00, -6.88295960e-01,\n",
       "        -1.36835600e-01],\n",
       "       [ 6.95883211e-02, -2.19503335e-01,  2.91579274e-01,\n",
       "         1.47144581e-01],\n",
       "       [ 2.83477238e-01, -1.32932464e+00,  8.94100229e-02,\n",
       "        -8.90580520e-03],\n",
       "       [ 2.79077776e-01, -1.12002852e+00,  9.44876010e-02,\n",
       "         2.70657196e-01],\n",
       "       [ 6.24569791e-01,  2.49230293e-02, -2.04811472e-02,\n",
       "         1.47686401e-01],\n",
       "       [ 3.36530370e-01, -9.88404018e-01, -1.99389755e-01,\n",
       "        -6.53056201e-03],\n",
       "       [-3.62183385e-01, -2.01923787e+00,  1.05821048e-01,\n",
       "        -1.95708119e-02],\n",
       "       [ 2.88586239e-01, -8.55730320e-01,  1.30889685e-01,\n",
       "         1.07402349e-01],\n",
       "       [ 9.13606557e-02, -1.81192126e-01,  1.28978343e-01,\n",
       "         2.29959626e-01],\n",
       "       [ 2.27716866e-01, -3.84920081e-01,  1.56213154e-01,\n",
       "         1.32605877e-01],\n",
       "       [ 5.76388289e-01, -1.54873597e-01, -2.71650362e-01,\n",
       "         1.98606790e-02],\n",
       "       [-4.47667019e-01, -1.54379203e+00,  1.90400930e-01,\n",
       "        -1.99946457e-01],\n",
       "       [ 2.56730589e-01, -5.98851796e-01,  9.18791610e-02,\n",
       "         5.86220486e-02],\n",
       "       [ 1.84456887e+00,  8.70421312e-01,  1.00540102e+00,\n",
       "         4.92497432e-02],\n",
       "       [ 1.15788161e+00, -6.98869862e-01,  5.30160149e-01,\n",
       "         4.05207540e-02],\n",
       "       [ 2.20526679e+00,  5.62010477e-01, -2.02914170e-01,\n",
       "        -5.91841937e-02],\n",
       "       [ 1.44015066e+00, -4.69875881e-02,  1.63630107e-01,\n",
       "         2.35770073e-01],\n",
       "       [ 1.86781222e+00,  2.95044824e-01,  3.95628375e-01,\n",
       "         1.62982715e-02],\n",
       "       [ 2.75187334e+00,  8.00409201e-01, -5.82309103e-01,\n",
       "         1.01384486e-01],\n",
       "       [ 3.67017688e-01, -1.56150289e+00,  9.86893267e-01,\n",
       "         1.33123834e-01],\n",
       "       [ 2.30243944e+00,  4.20065580e-01, -6.51706439e-01,\n",
       "         2.38041242e-01],\n",
       "       [ 2.00668647e+00, -7.11438654e-01, -3.93990571e-01,\n",
       "         8.65106302e-02],\n",
       "       [ 2.25977735e+00,  1.92101038e+00,  3.97551897e-01,\n",
       "        -1.04838918e-01],\n",
       "       [ 1.36417549e+00,  6.92756454e-01,  2.84612074e-01,\n",
       "        -1.07860420e-01],\n",
       "       [ 1.60267867e+00, -4.21700450e-01,  2.31864079e-02,\n",
       "        -5.83316327e-02],\n",
       "       [ 1.88390070e+00,  4.19249651e-01,  2.63384095e-02,\n",
       "        -1.46414939e-01],\n",
       "       [ 1.26011510e+00, -1.16226042e+00,  5.80249290e-01,\n",
       "        -9.91573214e-02],\n",
       "       [ 1.46764520e+00, -4.42271587e-01,  1.00386957e+00,\n",
       "        -2.75658903e-01],\n",
       "       [ 1.59007732e+00,  6.76244806e-01,  6.38428708e-01,\n",
       "        -1.91862996e-01],\n",
       "       [ 1.47143146e+00,  2.55621824e-01,  3.74312599e-02,\n",
       "         1.55330271e-01],\n",
       "       [ 2.42632899e+00,  2.55666125e+00, -1.27881459e-01,\n",
       "         2.73807183e-01],\n",
       "       [ 3.31069558e+00,  1.77809493e-02, -7.03305304e-01,\n",
       "        -4.51886059e-02],\n",
       "       [ 1.26376667e+00, -1.70674538e+00, -2.67536893e-01,\n",
       "         6.51807997e-02],\n",
       "       [ 2.03771630e+00,  9.10467410e-01,  2.34799484e-01,\n",
       "        -1.67951254e-01],\n",
       "       [ 9.77980734e-01, -5.71764325e-01,  8.28127201e-01,\n",
       "        -2.77555871e-02],\n",
       "       [ 2.89765149e+00,  4.13641060e-01, -8.57421825e-01,\n",
       "         1.27336502e-01],\n",
       "       [ 1.33323218e+00, -4.81811219e-01, -5.42836383e-03,\n",
       "        -1.39959148e-01],\n",
       "       [ 1.70073390e+00,  1.01392187e+00,  2.98450613e-01,\n",
       "         6.16437339e-02],\n",
       "       [ 1.95432671e+00,  1.00777760e+00, -4.19984722e-01,\n",
       "         2.18338351e-01],\n",
       "       [ 1.17510363e+00, -3.16394472e-01,  1.29937757e-01,\n",
       "        -1.25420444e-01],\n",
       "       [ 1.02095055e+00,  6.43460292e-02,  3.37715967e-01,\n",
       "         8.65440136e-03],\n",
       "       [ 1.78834992e+00, -1.87361215e-01,  2.70658006e-01,\n",
       "        -3.10876478e-02],\n",
       "       [ 1.86364755e+00,  5.62290726e-01, -7.15634119e-01,\n",
       "         2.08215164e-01],\n",
       "       [ 2.43595373e+00,  2.59284433e-01, -7.27816146e-01,\n",
       "         1.79233648e-02],\n",
       "       [ 2.30492772e+00,  2.62632347e+00, -4.93473808e-01,\n",
       "         2.11675709e-01],\n",
       "       [ 1.86270322e+00, -1.78549495e-01,  3.54148712e-01,\n",
       "        -1.00009882e-01],\n",
       "       [ 1.11414774e+00, -2.92922623e-01, -1.83488392e-01,\n",
       "         1.86343697e-01],\n",
       "       [ 1.20247330e+00, -8.11315271e-01, -1.64723757e-01,\n",
       "         4.89483470e-01],\n",
       "       [ 2.79877045e+00,  8.56803329e-01, -5.42906499e-01,\n",
       "        -2.95881050e-01],\n",
       "       [ 1.57625591e+00,  1.06858111e+00,  9.45853819e-01,\n",
       "        -3.56057591e-02],\n",
       "       [ 1.34629210e+00,  4.22430611e-01,  1.80875478e-01,\n",
       "         2.15421288e-01],\n",
       "       [ 9.24824917e-01,  1.72231005e-02,  4.16826193e-01,\n",
       "        -5.23840949e-03],\n",
       "       [ 1.85204505e+00,  6.76128174e-01, -1.26721148e-02,\n",
       "        -1.95195239e-01],\n",
       "       [ 2.01481043e+00,  6.13885637e-01,  4.28332842e-01,\n",
       "        -2.47538313e-01],\n",
       "       [ 1.90178409e+00,  6.89575494e-01,  1.30075005e-01,\n",
       "        -4.69696647e-01],\n",
       "       [ 1.15788161e+00, -6.98869862e-01,  5.30160149e-01,\n",
       "         4.05207540e-02],\n",
       "       [ 2.04055823e+00,  8.67520601e-01,  3.38144000e-01,\n",
       "        -4.51871263e-02],\n",
       "       [ 1.99814710e+00,  1.04916875e+00,  6.32413436e-01,\n",
       "        -2.14045204e-01],\n",
       "       [ 1.87050329e+00,  3.86966082e-01,  2.56273852e-01,\n",
       "        -3.89256845e-01],\n",
       "       [ 1.56458048e+00, -8.96686809e-01, -2.63713516e-02,\n",
       "        -2.20192100e-01],\n",
       "       [ 1.52117050e+00,  2.69069144e-01,  1.80178380e-01,\n",
       "        -1.19171137e-01],\n",
       "       [ 1.37278779e+00,  1.01125442e+00,  9.33395241e-01,\n",
       "        -2.61286484e-02],\n",
       "       [ 9.60656030e-01, -2.43316682e-02,  5.28248807e-01,\n",
       "         1.63078032e-01]])"
      ]
     },
     "execution_count": 83,
     "metadata": {},
     "output_type": "execute_result"
    }
   ],
   "source": [
    "#PCA\n",
    "pca = PCA(n_components = 4)\n",
    "pca.fit_transform(data_scaled)"
   ]
  },
  {
   "cell_type": "code",
   "execution_count": 84,
   "metadata": {},
   "outputs": [
    {
     "name": "stdout",
     "output_type": "stream",
     "text": [
      "      sepal length (cm)  sepal width (cm)  petal length (cm)  petal width (cm)\n",
      "PC-1           0.521066         -0.269347           0.580413          0.564857\n",
      "PC-2           0.377418          0.923296           0.024492          0.066942\n",
      "PC-3          -0.719566          0.244382           0.142126          0.634273\n",
      "PC-4          -0.261286          0.123510           0.801449         -0.523597\n"
     ]
    }
   ],
   "source": [
    "#loading scores or eigen_vectors\n",
    "print(pd.DataFrame(pca.components_, columns = data_scaled.columns, index = ['PC-1', 'PC-2', 'PC-3', 'PC-4']))"
   ]
  },
  {
   "cell_type": "code",
   "execution_count": 89,
   "metadata": {},
   "outputs": [
    {
     "data": {
      "text/plain": [
       "array(['setosa', 'versicolor', 'virginica'], dtype='<U10')"
      ]
     },
     "execution_count": 89,
     "metadata": {},
     "output_type": "execute_result"
    }
   ],
   "source": [
    "ds1.target_names"
   ]
  },
  {
   "cell_type": "code",
   "execution_count": null,
   "metadata": {},
   "outputs": [],
   "source": []
  }
 ],
 "metadata": {
  "kernelspec": {
   "display_name": "Python 3",
   "language": "python",
   "name": "python3"
  },
  "language_info": {
   "codemirror_mode": {
    "name": "ipython",
    "version": 3
   },
   "file_extension": ".py",
   "mimetype": "text/x-python",
   "name": "python",
   "nbconvert_exporter": "python",
   "pygments_lexer": "ipython3",
   "version": "3.7.1"
  }
 },
 "nbformat": 4,
 "nbformat_minor": 2
}
